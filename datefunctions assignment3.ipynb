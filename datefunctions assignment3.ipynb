{
  "nbformat": 4,
  "nbformat_minor": 0,
  "metadata": {
    "colab": {
      "provenance": []
    },
    "kernelspec": {
      "name": "python3",
      "display_name": "Python 3"
    },
    "language_info": {
      "name": "python"
    }
  },
  "cells": [
    {
      "cell_type": "code",
      "execution_count": 1,
      "metadata": {
        "colab": {
          "base_uri": "https://localhost:8080/"
        },
        "id": "jGMMbNgkOSB5",
        "outputId": "5ff42563-616f-4f79-fc0e-99c1d7530691"
      },
      "outputs": [
        {
          "output_type": "stream",
          "name": "stdout",
          "text": [
            "202309\n",
            "q4\n",
            "{'prev_month': '202308', 'future_month': '202408', 'current Quarter': 'q4_2023', 'previous_quater': 'Q3_2023'}\n"
          ]
        }
      ],
      "source": [
        "def getfuturemonth(y,mm):\n",
        "    if mm==1:\n",
        "        Previousmonth =12\n",
        "        future_mon=str(y+1)+str(Previousmonth)\n",
        "        return future_mon\n",
        "    elif mm<=10:\n",
        "        Previousmonth=mm-1\n",
        "        future_mon=str(y+1)+'0'+str(Previousmonth)\n",
        "        return future_mon\n",
        "    else:\n",
        "        Previousmonth=mm-1\n",
        "        future_mon=str(y+1)+str(Previousmonth)\n",
        "        return future_mon\n",
        "    \n",
        "def getpreviousmonth(y,mm):\n",
        "    if mm==1:\n",
        "        Previousmonth =12\n",
        "        prev_mon=str(y-1)+str(Previousmonth)\n",
        "        return prev_mon\n",
        "    elif mm<=10:\n",
        "        Previousmonth=mm-1\n",
        "        prev_mon=str(y)+'0'+str(Previousmonth)\n",
        "        return prev_mon\n",
        "    else:\n",
        "        Previousmonth=mm-1\n",
        "        prev_mon=str(y)+str(Previousmonth)\n",
        "        return prev_mon\n",
        "\n",
        "def currentquarter(Q,y):\n",
        "    currentquarter=Q+'_'+str(y)\n",
        "    return currentquarter\n",
        "    \n",
        "\n",
        "def getpreviousquarter(Q,y):\n",
        "    q=int(Q[1])\n",
        "    if q in range(2,5):\n",
        "        prevquanum= q-1\n",
        "        previousquarter='Q'+str(prevquanum)+'_'+str(y)\n",
        "        return previousquarter\n",
        "    else:\n",
        "        prevquanum=4\n",
        "        previousquarter='Q'+str(prevquanum)+'_'+str(y-1)\n",
        "        return previousquarter\n",
        "    \n",
        "def example(currdate,q):\n",
        "    n=len(currdate)\n",
        "    mm=int(currdate[n-2:])\n",
        "    y=int(currdate[:n-2])\n",
        "    Q=q\n",
        "    prev_month=getpreviousmonth(y,mm)\n",
        "    future_mon=getfuturemonth(y,mm)\n",
        "    curr_quarter=currentquarter(Q,y)\n",
        "    prev_quater=getpreviousquarter(Q,y)\n",
        "    \n",
        "\n",
        "    dict1=dict({'prev_month':prev_month,'future_month':future_mon,'current Quarter':curr_quarter,'previous_quater':prev_quater})\n",
        "    return dict1\n",
        "def main():\n",
        "    curr_date=input()\n",
        "    quater=input()\n",
        "    print(example(curr_date,quater))\n",
        "\n",
        "main()"
      ]
    }
  ]
}