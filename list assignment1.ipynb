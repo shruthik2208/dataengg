{
  "nbformat": 4,
  "nbformat_minor": 0,
  "metadata": {
    "colab": {
      "provenance": []
    },
    "kernelspec": {
      "name": "python3",
      "display_name": "Python 3"
    },
    "language_info": {
      "name": "python"
    }
  },
  "cells": [
    {
      "cell_type": "code",
      "execution_count": 1,
      "metadata": {
        "colab": {
          "base_uri": "https://localhost:8080/"
        },
        "id": "-Urhgc4wLxvT",
        "outputId": "bafb98b0-f7b6-4add-949f-33c9398c8f5a"
      },
      "outputs": [
        {
          "output_type": "stream",
          "name": "stdout",
          "text": [
            "['Shruthi Karanam', 'Vijay Thota']\n"
          ]
        }
      ],
      "source": [
        "firstname=[\"Shruthi\",\"Vijay\"]\n",
        "lastname=[\"Karanam\",\"Thota\"]\n",
        "Fullname=[]\n",
        "if len(firstname)==len(lastname):\n",
        "    for i in range(len(firstname)):\n",
        "        Fullname.insert(1,(firstname[i]+\" \"+lastname[i]))\n",
        "    print(Fullname)"
      ]
    }
  ]
}